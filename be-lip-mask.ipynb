{
 "cells": [
  {
   "cell_type": "code",
   "execution_count": 42,
   "metadata": {},
   "outputs": [],
   "source": [
    "# histogram of a grayscale image\n",
    "\n",
    "import cv2\n",
    "import numpy as np\n",
    "import matplotlib.pyplot as plt\n",
    "\n",
    "from ipywidgets import interact, interactive, fixed, interact_manual\n",
    "import ipywidgets as widgets"
   ]
  },
  {
   "cell_type": "code",
   "execution_count": 43,
   "metadata": {},
   "outputs": [],
   "source": [
    "def trim(image):\n",
    "    left = -1\n",
    "    right = -1\n",
    "    top = -1\n",
    "    bottom = -1\n",
    "\n",
    "    for i in range(image.shape[0]):\n",
    "        if np.any(image[i] > 0):\n",
    "            top = i\n",
    "            break\n",
    "    for i in range(image.shape[0] - 1, -1, -1):\n",
    "        if np.any(image[i] > 0):\n",
    "            bottom = i\n",
    "            break\n",
    "    for i in range(image.shape[1]):\n",
    "        if np.any(image[:, i] > 0):\n",
    "            left = i\n",
    "            break\n",
    "    for i in range(image.shape[1] - 1, -1, -1):\n",
    "        if np.any(image[:, i] > 0):\n",
    "            right = i\n",
    "            break\n",
    "    print(left, right, top, bottom)\n",
    "    image = image[top:bottom, left:right]\n",
    "    return image , left, right, top, bottom\n"
   ]
  },
  {
   "cell_type": "code",
   "execution_count": 44,
   "metadata": {},
   "outputs": [],
   "source": [
    "def plot(grayImage, tempGrayImage, hist):\n",
    "    # dialate the image\n",
    "    kernel = np.ones((5, 5), np.uint8)\n",
    "    erodekernel = np.ones((3, 3), np.uint8)\n",
    "    blurKernel = np.ones((5, 5), np.float32)/25\n",
    "    # blurred = cv2.GaussianBlur(tempGrayImage, (5, 5), 0)\n",
    "    # blurred = cv2.filter2D(tempGrayImage, -1, blurKernel)\n",
    "    # blurred = cv2.bilateralFilter(tempGrayImage, 9, 75, 75)\n",
    "    # blurred = cv2.medianBlur(tempGrayImage, 5)\n",
    "    # maxFilter = cv2.morphologyEx(tempGrayImage, cv2.MORPH_CLOSE, kernel)\n",
    "    # for i in range(2):\n",
    "        # blurred = cv2.erode(blurred, kernel, iterations=1)\n",
    "        # blurred = cv2.dilate(blurred, kernel, iterations=1)\n",
    "\n",
    "    dilated = cv2.dilate(tempGrayImage, kernel, iterations=5)\n",
    "    blurred = cv2.GaussianBlur(dilated, (5,5), 0)\n",
    "    eroded = cv2.erode(blurred, kernel, iterations=5)\n",
    "    #gauss blur the image \n",
    "    \n",
    "    # plot main, eroded and dilated images\n",
    "    fig, ax = plt.subplots(1, 5, figsize=(32, 10))\n",
    "\n",
    "    ax[0].imshow(grayImage, cmap='gray')\n",
    "    ax[0].set_title('Original Image')\n",
    "    ax[0].axis('off')\n",
    "\n",
    "    ax[1].imshow(blurred, cmap='gray')\n",
    "    ax[1].set_title('Blurred Image')\n",
    "    ax[1].axis('off')\n",
    "\n",
    "    ax[2].plot(hist, color='black')\n",
    "    ax[2].set_title('Histogram')\n",
    "    ax[2].set_xlabel('Pixel Value')\n",
    "    ax[2].set_ylabel('Frequency')\n",
    "\n",
    "    ax[3].imshow(eroded, cmap='gray')\n",
    "    ax[3].set_title('Eroded Image')\n",
    "    ax[3].axis('off')\n",
    "\n",
    "    ax[4].imshow(dilated, cmap='gray')\n",
    "    ax[4].set_title('Dilated Image')\n",
    "    ax[4].axis('off')\n",
    "    plt.show()\n",
    "\n",
    "    cv2.imwrite('blurred.jpg', blurred)\n",
    "    cv2.imwrite('eroded.jpg', eroded)\n",
    "    cv2.imwrite('dilated.jpg', dilated)\n"
   ]
  },
  {
   "cell_type": "code",
   "execution_count": 45,
   "metadata": {},
   "outputs": [],
   "source": [
    "def update(percentile):\n",
    "    # Read the base image\n",
    "    testImagePaths = ['/Users/nuhash/Downloads/test14_26_46.PNG'] \n",
    "    for testImagePath in testImagePaths:\n",
    "        image = (cv2.imread(testImagePath))\n",
    "\n",
    "        # Convert the image to grayscale\n",
    "        grayImage = cv2.cvtColor(image, cv2.COLOR_BGR2GRAY)\n",
    "        # tempGrayImage = cv2.medianBlur(grayImage, 5)\n",
    "        # apply max filter on the tempGrayImage\n",
    "        # kernel = np.ones((5, 5), np.uint8)\n",
    "        # tempGrayImage = cv2.morphologyEx(tempGrayImage, cv2.MORPH_CLOSE, kernel)\n",
    "        # lowest top value among the top 10% of the pixels\n",
    "        minimumPixel = np.percentile(grayImage, percentile)\n",
    "        print(\"minimumPixel: \", minimumPixel)\n",
    "        # remove the 0 values\n",
    "        histArray = grayImage[grayImage >= minimumPixel]\n",
    "\n",
    "        # Calculate the histogram\n",
    "        hist = cv2.calcHist([histArray], [0], None, [256], [0, 256])\n",
    "\n",
    "        plot(grayImage, grayImage, hist)"
   ]
  },
  {
   "cell_type": "code",
   "execution_count": 46,
   "metadata": {},
   "outputs": [
    {
     "data": {
      "application/vnd.jupyter.widget-view+json": {
       "model_id": "871feb835b3144e7903ad4c8bb497543",
       "version_major": 2,
       "version_minor": 0
      },
      "text/plain": [
       "interactive(children=(FloatSlider(value=0.0, description='percentile', step=0.5), Output()), _dom_classes=('wi…"
      ]
     },
     "metadata": {},
     "output_type": "display_data"
    },
    {
     "data": {
      "text/plain": [
       "<function __main__.update(percentile)>"
      ]
     },
     "execution_count": 46,
     "metadata": {},
     "output_type": "execute_result"
    }
   ],
   "source": [
    "interact(update, percentile=widgets.FloatSlider(min=0, max=100, step=0.5, value=0))"
   ]
  }
 ],
 "metadata": {
  "kernelspec": {
   "display_name": "base",
   "language": "python",
   "name": "python3"
  },
  "language_info": {
   "codemirror_mode": {
    "name": "ipython",
    "version": 3
   },
   "file_extension": ".py",
   "mimetype": "text/x-python",
   "name": "python",
   "nbconvert_exporter": "python",
   "pygments_lexer": "ipython3",
   "version": "3.11.7"
  }
 },
 "nbformat": 4,
 "nbformat_minor": 2
}
