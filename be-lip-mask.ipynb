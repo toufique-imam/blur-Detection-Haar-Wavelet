{
 "cells": [
  {
   "cell_type": "code",
   "execution_count": 2,
   "metadata": {},
   "outputs": [],
   "source": [
    "# histogram of a grayscale image\n",
    "\n",
    "import cv2\n",
    "import numpy as np\n",
    "import matplotlib.pyplot as plt\n",
    "\n",
    "from ipywidgets import interact, interactive, fixed, interact_manual\n",
    "import ipywidgets as widgets"
   ]
  },
  {
   "cell_type": "code",
   "execution_count": 3,
   "metadata": {},
   "outputs": [],
   "source": [
    "def plot(grayImage, tempGrayImage, hist):\n",
    "    # dialate the image\n",
    "    kernel = np.ones((5, 5), np.uint8)\n",
    "    erodekernel = np.ones((3, 3), np.uint8)\n",
    "    blurKernel = np.ones((5, 5), np.float32)/25\n",
    "    # blurred = cv2.GaussianBlur(tempGrayImage, (5, 5), 0)\n",
    "    # blurred = cv2.filter2D(tempGrayImage, -1, blurKernel)\n",
    "    # blurred = cv2.bilateralFilter(tempGrayImage, 9, 75, 75)\n",
    "    # blurred = cv2.medianBlur(tempGrayImage, 5)\n",
    "    # maxFilter = cv2.morphologyEx(tempGrayImage, cv2.MORPH_CLOSE, kernel)\n",
    "    # for i in range(2):\n",
    "        # blurred = cv2.erode(blurred, kernel, iterations=1)\n",
    "        # blurred = cv2.dilate(blurred, kernel, iterations=1)\n",
    "\n",
    "    eroded = cv2.erode(tempGrayImage, kernel, iterations=1)\n",
    "    #gauss blur the image \n",
    "    dilated = cv2.dilate(eroded, kernel, iterations=2)\n",
    "    # dilated = cv2.medianBlur(eroded, 7)\n",
    "    \n",
    "    # plot main, eroded and dilated images\n",
    "    fig, ax = plt.subplots(1, 5, figsize=(32, 10))\n",
    "\n",
    "    ax[0].imshow(grayImage, cmap='gray')\n",
    "    ax[0].set_title('Original Image')\n",
    "    ax[0].axis('off')\n",
    "\n",
    "    ax[1].imshow(tempGrayImage, cmap='gray')\n",
    "    ax[1].set_title('percentile Image')\n",
    "    ax[1].axis('off')\n",
    "\n",
    "    ax[2].plot(hist, color='black')\n",
    "    ax[2].set_title('Histogram')\n",
    "    ax[2].set_xlabel('Pixel Value')\n",
    "    ax[2].set_ylabel('Frequency')\n",
    "\n",
    "    ax[3].imshow(eroded, cmap='gray')\n",
    "    ax[3].set_title('Eroded Image')\n",
    "    ax[3].axis('off')\n",
    "\n",
    "    ax[4].imshow(dilated, cmap='gray')\n",
    "    ax[4].set_title('Dilated Image')\n",
    "    ax[4].axis('off')\n",
    "    plt.show()\n"
   ]
  },
  {
   "cell_type": "code",
   "execution_count": 4,
   "metadata": {},
   "outputs": [],
   "source": [
    "def update(percentile):\n",
    "    # Read the base image\n",
    "    testImagePaths = ['/Users/nuhash/Downloads/test13_14_49.PNG', '/Users/nuhash/Downloads/test14_14_20.PNG' ] \n",
    "    for testImagePath in testImagePaths:\n",
    "        image = cv2.imread(testImagePath)\n",
    "\n",
    "        # Convert the image to grayscale\n",
    "        grayImage = cv2.cvtColor(image, cv2.COLOR_BGR2GRAY)\n",
    "        tempGrayImage = cv2.medianBlur(grayImage, 5)\n",
    "        # apply max filter on the tempGrayImage\n",
    "        # kernel = np.ones((5, 5), np.uint8)\n",
    "        # tempGrayImage = cv2.morphologyEx(tempGrayImage, cv2.MORPH_CLOSE, kernel)\n",
    "        # lowest top value among the top 10% of the pixels\n",
    "        minimumPixel = np.percentile(grayImage, percentile)\n",
    "        print(\"minimumPixel: \", minimumPixel)\n",
    "        # remove the 0 values\n",
    "        histArray = grayImage[grayImage >= minimumPixel]\n",
    "\n",
    "        # Calculate the histogram\n",
    "        hist = cv2.calcHist([histArray], [0], None, [256], [0, 256])\n",
    "\n",
    "        for x in range(grayImage.shape[0]):\n",
    "            for y in range(grayImage.shape[1]):\n",
    "                if tempGrayImage[x][y] < minimumPixel:\n",
    "                    tempGrayImage[x][y] = 0\n",
    "\n",
    "        plot(grayImage, tempGrayImage, hist)"
   ]
  },
  {
   "cell_type": "code",
   "execution_count": 5,
   "metadata": {},
   "outputs": [
    {
     "data": {
      "application/vnd.jupyter.widget-view+json": {
       "model_id": "f35b822c45164cce968c6087dd74ba36",
       "version_major": 2,
       "version_minor": 0
      },
      "text/plain": [
       "interactive(children=(FloatSlider(value=95.0, description='percentile', step=0.5), Output()), _dom_classes=('w…"
      ]
     },
     "metadata": {},
     "output_type": "display_data"
    },
    {
     "data": {
      "text/plain": [
       "<function __main__.update(percentile)>"
      ]
     },
     "execution_count": 5,
     "metadata": {},
     "output_type": "execute_result"
    }
   ],
   "source": [
    "interact(update, percentile=widgets.FloatSlider(min=0, max=100, step=0.5, value=95))"
   ]
  }
 ],
 "metadata": {
  "kernelspec": {
   "display_name": "base",
   "language": "python",
   "name": "python3"
  },
  "language_info": {
   "codemirror_mode": {
    "name": "ipython",
    "version": 3
   },
   "file_extension": ".py",
   "mimetype": "text/x-python",
   "name": "python",
   "nbconvert_exporter": "python",
   "pygments_lexer": "ipython3",
   "version": "3.11.7"
  }
 },
 "nbformat": 4,
 "nbformat_minor": 2
}
