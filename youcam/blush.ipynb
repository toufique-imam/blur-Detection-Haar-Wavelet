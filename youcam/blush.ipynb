{
 "cells": [
  {
   "cell_type": "code",
   "execution_count": 1,
   "metadata": {},
   "outputs": [],
   "source": [
    "import xml.etree.ElementTree as ET\n",
    "\n"
   ]
  },
  {
   "cell_type": "code",
   "execution_count": 2,
   "metadata": {},
   "outputs": [],
   "source": [
    "def getColorList(path):\n",
    "    tree = ET.parse(path)\n",
    "    root = tree.getroot()\n",
    "\n",
    "    palettes = root.findall(\".//palette\")\n",
    "    xcolors = []\n",
    "    for palette in palettes:\n",
    "        guid = palette.get(\"guid\")\n",
    "        colors = palette.findall(\".//color\")\n",
    "        # print(guid)\n",
    "        for color in colors:\n",
    "            # print(color.text, len(color.text))\n",
    "            xcolors.append(color.text.strip())\n",
    "    return xcolors\n"
   ]
  },
  {
   "cell_type": "code",
   "execution_count": 15,
   "metadata": {},
   "outputs": [],
   "source": [
    "def getPatterns(path):\n",
    "    tree = ET.parse(path)\n",
    "    root = tree.getroot()\n",
    "\n",
    "    patterns = root.findall(\".//pattern\")\n",
    "    xpatterns = []\n",
    "    for pattern in patterns:\n",
    "        guid = pattern.get(\"guid\")\n",
    "        thumbnail = pattern.get(\"thumbnail\")\n",
    "        thumbnail = thumbnail.replace(\"blush/\",\"\")\n",
    "        masks = pattern.findall(\".//mask\")\n",
    "        xmask = {}\n",
    "        for mask in masks:\n",
    "            position = mask.get(\"position\")\n",
    "            src = mask.get(\"src\")\n",
    "            # remove blush/\n",
    "            src = src.replace(\"blush/\",\"\")\n",
    "            xmask[position] = src\n",
    "        patternNow = {\"guid\": guid , \"thumbnail\": thumbnail, \"masks\": xmask}\n",
    "        print(patternNow)\n",
    "        xpatterns.append(patternNow)\n",
    "    return xpatterns\n"
   ]
  },
  {
   "cell_type": "code",
   "execution_count": 16,
   "metadata": {},
   "outputs": [
    {
     "name": "stdout",
     "output_type": "stream",
     "text": [
      "case color0 = \"#00ff65a1\"\n",
      "case color1 = \"#00fb4e92\"\n",
      "case color2 = \"#00fc288f\"\n",
      "case color3 = \"#00ee8fda\"\n",
      "case color4 = \"#009c0004\"\n",
      "case color5 = \"#00ff0000\"\n",
      "case color6 = \"#00ff4c00\"\n",
      "case color7 = \"#00fa4c3d\"\n",
      "case color8 = \"#00ff7748\"\n",
      "case color9 = \"#00d93150\"\n",
      "case color10 = \"#00e73656\"\n",
      "case color11 = \"#00c0415e\"\n",
      "case color12 = \"#00eb5e6d\"\n",
      "case color13 = \"#00ef7b88\"\n",
      "case color14 = \"#00d35e78\"\n",
      "case color15 = \"#00d97188\"\n",
      "case color16 = \"#00e28b9c\"\n",
      "case color17 = \"#00a32e24\"\n",
      "case color18 = \"#00ffa27a\"\n",
      "case color19 = \"#00e88459\"\n",
      "case color20 = \"#00cd643a\"\n",
      "case color21 = \"#00a4491f\"\n",
      "case color22 = \"#00eba050\"\n",
      "case color23 = \"#00d1823c\"\n",
      "case color24 = \"#00b26100\"\n",
      "case color25 = \"#00965500\"\n",
      "case color26 = \"#00ffb8c0\"\n",
      "case color27 = \"#00eb98ac\"\n",
      "case color28 = \"#00b85872\"\n",
      "case color29 = \"#00903243\"\n"
     ]
    }
   ],
   "source": [
    "blushColors = getColorList(\"blush.xml\")\n",
    "for idx in range(len(blushColors)):\n",
    "    print(\"case color{} = \\\"#{}\\\"\".format(idx, blushColors[idx]))"
   ]
  },
  {
   "cell_type": "code",
   "execution_count": 17,
   "metadata": {},
   "outputs": [
    {
     "name": "stdout",
     "output_type": "stream",
     "text": [
      "{'guid': 'patten_blush_01', 'thumbnail': 'thumb/patten_blush_01.jpg', 'masks': {'left': '01_l.png', 'right': '01_r.png'}}\n",
      "{'guid': 'patten_blush_02', 'thumbnail': 'thumb/patten_blush_02.jpg', 'masks': {'left': '02_l.png', 'right': '02_r.png'}}\n",
      "{'guid': 'patten_blush_03', 'thumbnail': 'thumb/patten_blush_03.jpg', 'masks': {'left': '03_l.png', 'right': '03_r.png'}}\n",
      "{'guid': 'patten_blush_04', 'thumbnail': 'thumb/patten_blush_04.jpg', 'masks': {'left': '04_l.png', 'right': '04_r.png'}}\n"
     ]
    }
   ],
   "source": [
    "blushPatterns = getPatterns(\"blush.xml\")\n",
    "makeupBlush = {}\n",
    "id = 0\n",
    "for idx in range(len(blushPatterns)):\n",
    "    currentBlushKey = \"blush_{}\".format(idx+1)\n",
    "    blushes = []\n",
    "    blushLeftURL = blushPatterns[idx][\"masks\"][\"left\"]\n",
    "    blushRightURL = blushPatterns[idx][\"masks\"][\"right\"]\n",
    "    blushThumbURL = blushPatterns[idx][\"thumbnail\"]\n",
    "    for idx2 in range(len(blushColors)):\n",
    "        id += 1\n",
    "        blushObjectNow = { \n",
    "            \"blushLeftURL\": blushLeftURL,\n",
    "            \"blushRightURL\": blushRightURL,\n",
    "            \"blushThumbURL\": blushThumbURL,\n",
    "            \"color\": blushColors[idx2],\n",
    "            \"id\": id\n",
    "        }\n",
    "        blushes.append(blushObjectNow)\n",
    "    makeupBlush[currentBlushKey] = blushes\n",
    "\n",
    "        "
   ]
  },
  {
   "cell_type": "code",
   "execution_count": 18,
   "metadata": {},
   "outputs": [],
   "source": [
    "import json \n",
    "with open(\"blush.json\", \"w\") as f:\n",
    "    json.dump(makeupBlush, f, indent=4)"
   ]
  }
 ],
 "metadata": {
  "kernelspec": {
   "display_name": "base",
   "language": "python",
   "name": "python3"
  },
  "language_info": {
   "codemirror_mode": {
    "name": "ipython",
    "version": 3
   },
   "file_extension": ".py",
   "mimetype": "text/x-python",
   "name": "python",
   "nbconvert_exporter": "python",
   "pygments_lexer": "ipython3",
   "version": "3.11.7"
  }
 },
 "nbformat": 4,
 "nbformat_minor": 2
}
