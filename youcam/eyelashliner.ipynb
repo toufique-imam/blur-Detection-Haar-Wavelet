{
 "cells": [
  {
   "cell_type": "code",
   "execution_count": 23,
   "metadata": {},
   "outputs": [],
   "source": [
    "import xml.etree.ElementTree as ET\n",
    "\n"
   ]
  },
  {
   "cell_type": "code",
   "execution_count": 24,
   "metadata": {},
   "outputs": [],
   "source": [
    "def getColorList(path):\n",
    "    tree = ET.parse(path)\n",
    "    root = tree.getroot()\n",
    "\n",
    "    palettes = root.findall(\".//palette\")\n",
    "    xcolors = []\n",
    "    for palette in palettes:\n",
    "        guid = palette.get(\"guid\")\n",
    "        colors = palette.findall(\".//color\")\n",
    "        # print(guid)\n",
    "        for color in colors:\n",
    "            # print(color.text, len(color.text))\n",
    "            xcolors.append(color.text.strip())\n",
    "    return xcolors\n"
   ]
  },
  {
   "cell_type": "code",
   "execution_count": null,
   "metadata": {},
   "outputs": [],
   "source": [
    "eyelashColors = getColorList(\"eyelash.xml\")\n",
    "for idx in range(len(eyelashColors)):\n",
    "    print(\"case color{} = \\\"#{}\\\"\".format(idx, eyelashColors[idx]))"
   ]
  },
  {
   "cell_type": "code",
   "execution_count": null,
   "metadata": {},
   "outputs": [],
   "source": [
    "eyelinerColors = getColorList(\"eyeliner.xml\")\n",
    "for idx in range(len(eyelinerColors)):\n",
    "    print(\"case color{} = \\\"#{}\\\"\".format(idx, eyelinerColors[idx]))"
   ]
  }
 ],
 "metadata": {
  "kernelspec": {
   "display_name": "base",
   "language": "python",
   "name": "python3"
  },
  "language_info": {
   "codemirror_mode": {
    "name": "ipython",
    "version": 3
   },
   "file_extension": ".py",
   "mimetype": "text/x-python",
   "name": "python",
   "nbconvert_exporter": "python",
   "pygments_lexer": "ipython3",
   "version": "3.11.7"
  }
 },
 "nbformat": 4,
 "nbformat_minor": 2
}
